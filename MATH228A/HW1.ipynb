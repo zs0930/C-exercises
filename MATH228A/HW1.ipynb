{
 "cells": [
  {
   "cell_type": "markdown",
   "metadata": {},
   "source": [
    "## Code submission\n",
    "\n",
    "If you would like to use Jupyter (perhaps the easiest way, this replaces the old IJuliaNotebook), just submit the notebook file. Name it as p(Homework#).ipynb.  For instance, for homework 1, name it as p1.ipynb. I suggest everyone use the latest version of Julia (current stable version **v0.7.0**. Please **DO NOT** use v1.0.0 **unless you know what you are doing**).  \n",
    "\n",
    "If you use MATLAB or Julia/Python (not the notebook), name your main program as p(Homework#)_(Problem#).m. For instance, for homework 1, problem 2, name it as p1_2.m (or p1_2.jl,p1_2.py). \n",
    "\n",
    "For proof-related problems, type your solution using **LaTeX (no other format is accepted)**. You do not need to write down every step of the derivation, but make sure the logic is clear.  \n",
    "\n",
    "For implementation based problems, the problem description may not include all the information for the answer to be uniquely defined. For instance, your answer might depend on the choice of the mesh size. This is OK.\n",
    "\n",
    "E-mail the codes above, and **any supporting files** for the homework to bCourses\n",
    "\n",
    "You can **either** name it as\n",
    "\n",
    "lastname_firstname_1.ipynb (if you **only** have a notebook file)\n",
    "\n",
    "**or**\n",
    "\n",
    "lastname_firstname_1.zip (if you have **more than one** files)"
   ]
  },
  {
   "cell_type": "markdown",
   "metadata": {},
   "source": [
    "## Problem 1\n",
    "\n",
    "Consider $u'(t)=f(u(t)),u(0)=u_0$, and $f:\\mathbb{R}^{d}\\to \\mathbb{R}$ \n",
    "is Lipschitz continuous with a\n",
    "Lipschitz constant $L$. Let $\\max \\Vert u''(t)\\Vert$ be bounded by a constant $M$ for $0\\le t\\le T$. Prove that the backward Euler method converges as the step size $h\\to 0$."
   ]
  },
  {
   "cell_type": "markdown",
   "metadata": {},
   "source": []
  },
  {
   "cell_type": "markdown",
   "metadata": {
    "scrolled": true
   },
   "source": [
    "The scheme of backward Euler method is,\n",
    "$$\n",
    "u_{n+1} = u_n + f(u_{n+1},t_{n+1})h\n",
    "$$\n",
    "\n",
    "Assume the exact solution at time step n is $u_n$ and the numerically approximated solution is $u(t_n)$,\n",
    "\n",
    "According to backward Euler method,\n",
    "\n",
    "$$\n",
    "u_{n+1} = u_n + f(u_{n+1},t_{n+1})h\\\\\n",
    "u(t_{n+1}) = u(t_n) + f(u(t_{n+1}),t_{n+1})h + \\tau_n\n",
    "$$\n",
    "\n",
    "Subtracting between above two equations gives,\n",
    "\n",
    "$$\n",
    "[u(t_{n+1}) - u_{n+1}] = [u(t_n) - u_n] + [f(u(t_{n+1}),t_{n+1})h - f(u_{n+1},t_{n+1})h] + \\tau_n\\\\\n",
    "e_{n+1} = e_n + h[f(u(t_{n+1}),t_{n+1}) - f(u_{n+1},t_{n+1})]+ \\tau_n\n",
    "$$\n",
    "\n",
    "As $f$ is Lipschitz continuous with the Lipschitz constant $L$, that is, $||f(u(t_{n+1}),t_{n+1}) - f(u_{n+1},t_{n+1})|| \\leqslant L||u(t_{n+1})-u_{n+1}|| = L||e_{n+1}||$,\n",
    "\n",
    "$$\n",
    "||e_{n+1}|| \\leqslant ||e_n||+hL||e_{n+1}||+||\\tau_n||\\\\\n",
    "(1-hL)||e_{n+1}|| \\leqslant ||e_n||+||\\tau_n||\n",
    "$$\n",
    "\n",
    "As $h\\rightarrow 0$ and $L$ is a finite number, $(1-hL)>0$,\n",
    "\n",
    "$$\n",
    "||e_{n+1}|| \\leqslant \\frac{1}{1-hL}||e_n||+\\frac{1}{1-hL}||\\tau_n||\\\\\n",
    "||e_{n+1}|| \\leqslant (\\frac{1}{1-hL})^{2}||e_{n-1}||+(\\frac{1}{1-hL})^{2}||\\tau_{n-1}||+\\frac{1}{1-hL}||\\tau_n||\\\\\n",
    "||e_{n+1}|| \\leqslant (\\frac{1}{1-hL})^{n+1}||e_0||+[(\\frac{1}{1-hL})^{n+1}||\\tau_{0}||+(\\frac{1}{1-hL})^{n}||\\tau_{1}||+\\cdots +\\frac{1}{1-hL}||\\tau_n||]\n",
    "$$\n",
    "\n",
    "The local truncation error is,\n",
    "\n",
    "$$\n",
    "\\tau_n = u(t_{n+1})-u(t_n)-u'(t_{n+1})h\n",
    "$$\n",
    "\n",
    "Use Taylor series expansion on $u(t_n)$, \n",
    "\n",
    "$$\n",
    "u(t_n) = u(t_{n+1}-h)=u(t_{n+1})-u'(t_{n+1})h+\\int_{t_{n+1}}^{t_n}(t_n-s)u''(s)ds\n",
    "$$\n",
    "\n",
    "Thus the local truncation error,\n",
    "$$\n",
    "\\tau_n = u(t_{n+1})-[u(t_{n+1})-u'(t_{n+1})h+\\int_{t_{n+1}}^{t_n}(t_n-s)u''(s)ds]-u'(t_{n+1})h=-\\int_{t_{n+1}}^{t_n}(t_n-s)u''(s)ds\n",
    "$$\n",
    "\n",
    "As $max||u(t)||$ is bounded by $M$ for $0 \\leqslant t \\leqslant T$,\n",
    "\n",
    "$$\n",
    "||\\tau_n||\\leqslant [\\int_{t_{n+1}}^{t_n}(t_n-s)ds]M = \\frac{h^2M}{2}\n",
    "$$\n",
    "\n",
    "Thus for the error at nth step,\n",
    "\n",
    "$$\n",
    "||e_n|| \\leqslant (\\frac{1}{1-hL})^{n}||e_0||+[(\\frac{1}{1-hL})^{n}||\\tau_{0}||+(\\frac{1}{1-hL})^{n-1}||\\tau_{1}||+\\cdots +\\frac{1}{1-hL}||\\tau_{n-1}||]\\\\\n",
    "||e_n|| \\leqslant (\\frac{1}{1-hL})^{n}||e_0||+(\\frac{h^2M}{2})\\frac{(1-hL)^{-n}-1}{hL} = (1-hL)^{-n}||e_0||+[\\frac{(1-hL)^{-n}-1}{2L}M]h\n",
    "$$\n",
    "\n",
    "As $1+x\\leqslant e^x$, \n",
    "\n",
    "$$\n",
    "(1-hL)^{-n}\\leqslant e^{(-hL)(-n)}=e^{nhL}=e^{LT}\n",
    "$$\n",
    "\n",
    "Thus,\n",
    "$$\n",
    "||e_n|| \\leqslant e^{LT}||e_0||+(\\frac{e^{LT}-1}{2L}M)h\n",
    "$$\n",
    "\n",
    "Therefore, the backward Euler method converges as the step size $h\\to 0$."
   ]
  },
  {
   "cell_type": "markdown",
   "metadata": {},
   "source": [
    "## Problem 2\n",
    "\n",
    "Consider the initial value problem\n",
    "$$\n",
    "\\begin{split}\n",
    "u'_{1} &= u_{1},\\\\\n",
    "u'_{2} &= u_{1} - u_{2},\\\\\n",
    "\\end{split}\n",
    "$$\n",
    "with initial condition $(u_{1}(0),u_{2}(0))=(1,1)$. \n",
    "\n",
    "1. Find a way to solve the problem above analytically, and write down the answer of u(T=2.0).\n",
    "\n",
    "2. Solve the problem numerically using the trapezoidal rule. Verify that the solution agrees with the exact solution at time $T=2.0$. Use a number of step sizes $h=2^{-i},i=5,\\ldots,10.$ Plot the error $e=\\Vert u(1)-u^*(1)\\Vert_2$ v.s. step size $h$ in a loglog plot, and estimate the convergence rate for each scheme.\n",
    "\n",
    "**Note**: the routine for computing the error, plotting and computing the slope is provided. "
   ]
  },
  {
   "cell_type": "markdown",
   "metadata": {},
   "source": []
  },
  {
   "cell_type": "markdown",
   "metadata": {},
   "source": [
    "1.\n",
    "First to solve $\\ u_1$,\n",
    "$$\n",
    "u_1' = u_1, \\text{that is},\n",
    "\\frac{du_1}{dt}=u_1,\\ \\ \\frac{du_1}{u}=dt,\\ \\ \\int \\frac{du_1}{u}=\\int dt,\\\\\n",
    "ln(u_1) + C_1 = t, \\ u_1 = e^{t-C_1}\n",
    "$$\n",
    "According to initial condition,\n",
    "$$\n",
    "\\ u_1(0) = e^{0-C_1} = e^{-C_1} = 1, \\ C_1 = 0,\\\\\n",
    "u_1 = e^{t},\n",
    "$$\n",
    "\n",
    "\n",
    "Then to solve $u_2,\\ u_2' = u_1 - u_2 = e^{t} - u_2,$ first to solve homogeneous part,\n",
    "$$\n",
    "\\frac{du_{2H}}{dt} + u_{2H} = 0,\\ \\ \\frac{du_{2H}}{u_{2H}}=-dt,\\ \\ \\int \\frac{du_{2H}}{u_{2H}}=-\\int dt,\\\\\n",
    "ln(u_{2H}) + C_2' = -t, \\ u_{2H} = e^{-t-C_2'} = e^{-t} \\cdot e^{-C_2'} = C_2e^{-t},\n",
    "$$\n",
    "Then to solve paticular part,$\\frac{du_{2P}}{dt} + u_{2P} = e^{t},$\n",
    "pick $u_{2P} = Ae^{t},$\n",
    "$$\n",
    "Ae^{t} + Ae^{t} = e^{t},\\ A = 0.5,\\ u_{2P} = 0.5e^{t},\\\\\n",
    "u_2 = u_{2H}+u_{2P} = C_2e^{-t} + 0.5e^{t},\n",
    "$$\n",
    "According to initial condition, \n",
    "$$\n",
    "u_2(0) = C_2e^{0} + 0.5e^{0} = C_2 + 0.5 = 1, \\ C_2 = 0.5,\\\\\n",
    "u_2 = 0.5e^{-t} + 0.5e^{t},\\\\\n",
    "$$\n",
    "Thus the analytical solution of the initial value problem is,\n",
    "$$\n",
    "(u_1, u_2) = (e^{t},\\ 0.5e^{-t} + 0.5e^{t}),\\\\\n",
    "u(T=2.0)=(e^{2.0},\\ 0.5e^{-2.0} + 0.5e^{2.0}) = (7.389,\\ 3.762).\n",
    "$$"
   ]
  },
  {
   "cell_type": "code",
   "execution_count": 1,
   "metadata": {},
   "outputs": [
    {
     "name": "stdout",
     "output_type": "stream",
     "text": [
      "uexact = [7.38906, 3.7622]\n",
      "step size = 0.0625, utrape = [7.39387, 3.87769], err = 0.11559826887560119\n",
      "step size = 0.03125, utrape = [7.39026, 3.8194], err = 0.057214171378512896\n",
      "step size = 0.015625, utrape = [7.38936, 3.79066], err = 0.02846843579614905\n",
      "step size = 0.0078125, utrape = [7.38913, 3.7764], err = 0.014200504249383475\n",
      "step size = 0.00390625, utrape = [7.38907, 3.76929], err = 0.00709194236433218\n",
      "step size = 0.001953125, utrape = [7.38906, 3.76574], err = 0.0035439085781849497\n"
     ]
    },
    {
     "data": {
      "image/png": "[encoded data removed]",
      "text/plain": [
       "Figure(PyObject <Figure size 400x400 with 1 Axes>)"
      ]
     },
     "metadata": {},
     "output_type": "display_data"
    },
    {
     "name": "stdout",
     "output_type": "stream",
     "text": [
      "Slope for Trapezoid = 1.005526919116801\n"
     ]
    }
   ],
   "source": [
    "using LinearAlgebra\n",
    "using PyPlot\n",
    "\n",
    "function Trapezoid(N,T,u0)\n",
    "    u = copy(u0)\n",
    "    unew = copy(u0)\n",
    "    dt = T/N\n",
    "    for i = 1 : N\n",
    "        unew[1] = (u[1]+dt/2*u[1])/(1-dt/2)\n",
    "        unew[2] = (u[2]+dt/2*(u[1]-u[2]+unew[1]))/(1+dt/2)\n",
    "        u = unew\n",
    "    end\n",
    "    return u\n",
    "end\n",
    "\n",
    "u0 = [1.0,1.0]\n",
    "T = 2.0\n",
    "# You need to compute uexact at T=2.0\n",
    "uexact = [exp(T), 0.5*(exp(T)+exp(-T))]\n",
    "println(\"uexact = \", uexact)\n",
    "\n",
    "# Plotting routine provided below\n",
    "NList = 2 .^(5:10)\n",
    "errTrapeList = zeros(size(NList))\n",
    "for i = 1 : length(NList)\n",
    "    N = NList[i]\n",
    "    utrape = Trapezoid(N,T,u0)\n",
    "    errTrapeList[i] = norm(utrape-uexact)\n",
    "    println(\"step size = \", T/N, \", utrape = \", utrape, \", err = \", errTrapeList[i])\n",
    "end\n",
    "\n",
    "figure(1,figsize=(4,4))\n",
    "loglog(T./NList, errTrapeList, \"r-d\", label=\"Trapezoid\")\n",
    "xlabel(L\"h\")\n",
    "ylabel(L\"||u-u^*||_2\")\n",
    "legend()\n",
    "\n",
    "slopeTrape = -(log(errTrapeList[end])-log(errTrapeList[1])) / \n",
    "(log(NList[end]) - log(NList[1]))\n",
    "\n",
    "println(\"Slope for Trapezoid = \", slopeTrape )"
   ]
  },
  {
   "cell_type": "markdown",
   "metadata": {},
   "source": [
    "## Problem 3\n",
    "\n",
    "Consider a simple pendulum of length $l$, forming an angle $\\theta(t)$ with the\n",
    "vertical axis. The equation of motion for the pendulum is given by\n",
    "\n",
    "$$\\theta''(t)+\\frac{g}{l} \\sin(\\theta(t))=0,$$\n",
    "\n",
    "where $g$ is the gravitational constant, with given initial conditions\n",
    "\n",
    "$$\\theta(0)=\\theta_0,\\quad \\theta'(0)=\\omega_0.$$\n",
    "\n",
    "1. Rewrite the equation as a system of first order equations in $u(t)=(\\theta(t),\\omega(t))$. Fill the `func` function below. \n",
    "\n",
    "2. Write a forward Euler method. Use a sufficiently small time step, and plot the solution of $\\theta(t)$ with $g=l=1$ and initial condition $(\\theta(0),\\omega(0))=(2.5,0.0)$ till $T=25$. Since no exact solution is available, measure the convergence rate by means of the solution at T=25 obtained from three time steps h, h/2, and h/4."
   ]
  },
  {
   "cell_type": "code",
   "execution_count": 1,
   "metadata": {
    "scrolled": false
   },
   "outputs": [
    {
     "data": {
      "image/png": "[encoded data removed]",
      "text/plain": [
       "Figure(PyObject <Figure size 400x400 with 1 Axes>)"
      ]
     },
     "metadata": {},
     "output_type": "display_data"
    },
    {
     "data": {
      "text/plain": [
       "PyObject Text(26,0.5,'$\\\\theta(t)$')"
      ]
     },
     "execution_count": 1,
     "metadata": {},
     "output_type": "execute_result"
    }
   ],
   "source": [
    "function func(u,g,l)\n",
    "    # fill here for evaluating f(u)\n",
    "    uo = copy(u)\n",
    "    ud = copy(u)\n",
    "    ud[1] = uo[2]\n",
    "    ud[2] = -g/l*sin(uo[1])\n",
    "    return ud\n",
    "end\n",
    "\n",
    "function ForwardEulerFull(N,T,u0,g,l)\n",
    "    # Fill code here. \n",
    "    # The output should be the full history of the solution\n",
    "    # i.e. the output u should be of size 2×(N+1)\n",
    "    # This is of course memory intensive and is not the \n",
    "    # commonly used approach\n",
    "    u = zeros(2,N+1)\n",
    "    u[:, 1]= copy(u0)\n",
    "    unew = copy(u0)\n",
    "    dt = T/N\n",
    "    for i = 1:N\n",
    "        unew = u[:, i] + dt * func(u[:, i], g, l)\n",
    "        u[:, i + 1] = unew\n",
    "    end\n",
    "    return u\n",
    "end\n",
    "\n",
    "# This should plot out the solution\n",
    "g=1.0\n",
    "l=1.0\n",
    "T=25.0\n",
    "N=10000\n",
    "u0=[2.5,0.0]\n",
    "\n",
    "uEulerFull = ForwardEulerFull(N,T,u0,g,l)\n",
    "tList = collect(0:N)*(T/N)\n",
    "\n",
    "using PyPlot\n",
    "figure(1,figsize=(4,4))\n",
    "plot(tList,vec(uEulerFull[1,:]),\"b-\")\n",
    "xlabel(L\"t\")\n",
    "ylabel(L\"\\theta(t)\")"
   ]
  },
  {
   "cell_type": "code",
   "execution_count": 7,
   "metadata": {},
   "outputs": [
    {
     "name": "stdout",
     "output_type": "stream",
     "text": [
      "The solution at T=25 is [-2.27995, -0.554471]\n",
      "The order of convergence is 1.0196139778528046\n"
     ]
    }
   ],
   "source": [
    "function ForwardEuler(N,T,u0,g,l)\n",
    "    # Fill code here. \n",
    "    # The output contains only the final solution u(T)\n",
    "    u = copy(u0)\n",
    "    unew = copy(u0)\n",
    "    dt = T/N\n",
    "    for i = 1 : N\n",
    "        unew = u + dt * func(u, g, l)\n",
    "        u = unew\n",
    "    end\n",
    "    return u\n",
    "end\n",
    "\n",
    "# Estimate the order of convergence\n",
    "using LinearAlgebra\n",
    "g=1.0\n",
    "l=1.0\n",
    "T=25.0\n",
    "N=100000\n",
    "u0=[2.5,0.0]\n",
    "\n",
    "uEulerH = ForwardEuler(N,T,u0,g,l)\n",
    "println(\"The solution at T=25 is \", uEulerH)\n",
    "uEulerHd2 = ForwardEuler(2*N,T,u0,g,l)\n",
    "uEulerHd4 = ForwardEuler(4*N,T,u0,g,l)\n",
    "p = log10(norm(uEulerH - uEulerHd2, 2)/norm(uEulerHd2 - uEulerHd4, 2))/log10(2)\n",
    "println(\"The order of convergence is \", p)"
   ]
  },
  {
   "cell_type": "markdown",
   "metadata": {},
   "source": [
    "## Problem 4\n",
    "\n",
    "1. Repeat Problem 3.2 using the trapezoidal rule. Modify your implementation in Problem 2 if needed.\n",
    "\n",
    "2. Repeat Problem 3.2 using the Adams-Bashforth 3 (AB3) scheme. Obtain the first two steps using forward Euler and trapezoidal rule, respectively. Observe the difference in terms of the convergence rate.\n",
    "\n"
   ]
  },
  {
   "cell_type": "code",
   "execution_count": 15,
   "metadata": {},
   "outputs": [
    {
     "name": "stdout",
     "output_type": "stream",
     "text": [
      "The solution at T=25 is [-2.2963, -0.524659]\n",
      "The order of convergence is 2.000002100577141\n"
     ]
    }
   ],
   "source": [
    "using LinearAlgebra\n",
    "\n",
    "# Need to solve the nonlinear equation in trapezoidal rule.\n",
    "function Trapezoid(N,T,u0,g,l)\n",
    "    # Fill code here. \n",
    "    # The output contains only the final solution u(T)\n",
    "    u = copy(u0)\n",
    "    unew = copy(u0)\n",
    "    dt = T/N\n",
    "    tolerance = 1e-20\n",
    "    for i = 1 : N\n",
    "        uiter = copy(u0)\n",
    "        e = [1 1]\n",
    "        while(norm(e[1], 2)>tolerance || norm(e[2], 2)>tolerance)\n",
    "            uiter = u + dt/2 * (func(u,g,l) + func(uiter,g,l))\n",
    "            e = uiter - (u + dt/2 * (func(u,g,l) + func(uiter,g,l)))\n",
    "        end\n",
    "        unew = uiter\n",
    "        u = unew\n",
    "    end\n",
    "    return u\n",
    "end\n",
    "\n",
    "# Estimate the order of convergence\n",
    "g=1.0\n",
    "l=1.0\n",
    "T=25.0\n",
    "N=10000\n",
    "u0=[2.5,0.0]\n",
    "\n",
    "utrapeH = Trapezoid(N,T,u0,g,l)\n",
    "println(\"The solution at T=25 is \", utrapeH)\n",
    "uTrapeHd2 = Trapezoid(2*N,T,u0,g,l)\n",
    "uTrapeHd4 = Trapezoid(4*N,T,u0,g,l)\n",
    "p = log10(norm(utrapeH - uTrapeHd2, 2)/norm(uTrapeHd2 - uTrapeHd4, 2))/log10(2)\n",
    "println(\"The order of convergence is \", p)\n"
   ]
  },
  {
   "cell_type": "code",
   "execution_count": 19,
   "metadata": {},
   "outputs": [
    {
     "name": "stdout",
     "output_type": "stream",
     "text": [
      "Using forward Euler to obtain first two steps,\n",
      "The solution at T=25 is [-2.29628, -0.524693]\n",
      "The order of convergence is 1.9684150663692719\n",
      " \n",
      "Using trapezoidal rule to obtain first two steps,\n",
      "The solution at T=25 is [-2.2963, -0.524656]\n",
      "The order of convergence is 3.000052538061663\n"
     ]
    }
   ],
   "source": [
    "# Need some method to compute u1,u2\n",
    "function AB3(N,T,u0,u1,u2,g,l)\n",
    "    # Fill code here. \n",
    "    # The output contains only the final solution u(T)\n",
    "    uoo = copy(u0)\n",
    "    uo = copy(u1)\n",
    "    u = copy(u2)\n",
    "    unew = copy(u2)\n",
    "    dt = T/N\n",
    "    for i = 3 : N\n",
    "        unew[1] = u[1] + dt * (5/12*uoo[2] - 4/3*uo[2] + 23/12*u[2])\n",
    "        unew[2] = u[2] + dt * (-g/l) * (5/12*sin(uoo[1]) - 4/3*sin(uo[1]) + 23/12*sin(u[1]))\n",
    "        uoo = copy(uo)\n",
    "        uo = copy(u)\n",
    "        u = copy(unew)\n",
    "    end\n",
    "    return u\n",
    "end\n",
    "\n",
    "# Estimate the order of convergence\n",
    "g=1.0\n",
    "l=1.0\n",
    "T=25.0\n",
    "N=10000\n",
    "u0=[2.5,0.0]\n",
    "\n",
    "u1Euler = ForwardEuler(1,T/N*1,u0,g,l)\n",
    "u2Euler = ForwardEuler(2,T/N*2,u0,g,l)\n",
    "u1EulerHd2 = ForwardEuler(1,T/(2*N)*1,u0,g,l)\n",
    "u2EulerHd2 = ForwardEuler(2,T/(2*N)*2,u0,g,l)\n",
    "u1EulerHd4 = ForwardEuler(1,T/(4*N)*1,u0,g,l)\n",
    "u2EulerHd4 = ForwardEuler(2,T/(4*N)*2,u0,g,l)\n",
    "\n",
    "uAB3EH = AB3(N,T,u0,u1Euler,u2Euler,g,l)\n",
    "println(\"Using forward Euler to obtain first two steps,\")\n",
    "println(\"The solution at T=25 is \", uAB3EH)\n",
    "uAB3EHd2 = AB3(2*N,T,u0,u1EulerHd2,u2EulerHd2,g,l)\n",
    "uAB3EHd4 = AB3(4*N,T,u0,u1EulerHd4,u2EulerHd4,g,l)\n",
    "pE = log10(norm(uAB3EH - uAB3EHd2, 2)/norm(uAB3EHd2 - uAB3EHd4, 2))/log10(2)\n",
    "println(\"The order of convergence is \", pE)\n",
    "\n",
    "println(\" \")\n",
    "\n",
    "u1Trape = Trapezoid(1,T/N*1,u0,g,l)\n",
    "u2Trape = Trapezoid(2,T/N*2,u0,g,l)\n",
    "u1TrapeHd2 = Trapezoid(1,T/(2*N)*1,u0,g,l)\n",
    "u2TrapeHd2 = Trapezoid(2,T/(2*N)*2,u0,g,l)\n",
    "u1TrapeHd4 = Trapezoid(1,T/(4*N)*1,u0,g,l)\n",
    "u2TrapeHd4 = Trapezoid(2,T/(4*N)*2,u0,g,l)\n",
    "\n",
    "uAB3TH = AB3(N,T,u0,u1Trape,u2Trape,g,l)\n",
    "println(\"Using trapezoidal rule to obtain first two steps,\")\n",
    "println(\"The solution at T=25 is \", uAB3TH)\n",
    "uAB3THd2 = AB3(2*N,T,u0,u1TrapeHd2,u2TrapeHd2,g,l)\n",
    "uAB3THd4 = AB3(4*N,T,u0,u1TrapeHd4,u2TrapeHd4,g,l)\n",
    "pT = log10(norm(uAB3TH - uAB3THd2, 2)/norm(uAB3THd2 - uAB3THd4, 2))/log10(2)\n",
    "println(\"The order of convergence is \", pT)"
   ]
  },
  {
   "cell_type": "code",
   "execution_count": null,
   "metadata": {},
   "outputs": [],
   "source": []
  }
 ],
 "metadata": {
  "kernelspec": {
   "display_name": "Julia 0.7.0",
   "language": "julia",
   "name": "julia-0.7"
  },
  "language_info": {
   "file_extension": ".jl",
   "mimetype": "application/julia",
   "name": "julia",
   "version": "0.7.0"
  }
 },
 "nbformat": 4,
 "nbformat_minor": 1
}
